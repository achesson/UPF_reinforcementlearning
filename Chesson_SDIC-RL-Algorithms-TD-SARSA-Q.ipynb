{
 "cells": [
  {
   "cell_type": "code",
   "execution_count": 12,
   "metadata": {},
   "outputs": [],
   "source": [
    "import sys\n",
    "sys.path.append(\"./python\") \n",
    "import matplotlib\n",
    "import matplotlib.pyplot as plt\n",
    "import numpy as np\n",
    "import Environment"
   ]
  },
  {
   "cell_type": "markdown",
   "metadata": {},
   "source": [
    "Hello,\n",
    "\n",
    "Attached the python notebook with the Algorithms seen in class: TD, SARSA, Q and code for environments.\n",
    "\n",
    "Homework : benchmark the  SARSA or Q-Learning in the problem SuttonSimplest and CliffWalking, the ones seen in class.\n",
    "\n",
    "Play with gamma, learning rate, epsilon, number of episodes and arrive to some conclusions, the ones you want and write down or plot the conclusions as you want.\n",
    "\n",
    "\n",
    "Then if you want try other environments but be careful we need discrete one dimensional states with the version we built, but we are going to do better in the next class! \n",
    "Here are some: GridworldSutton, WindyGridworld\n",
    "\n",
    "And some OpenAI gym ones: FrozenLake-v0, FrozenLake8x8-v0, Taxi-v2\n",
    "\n",
    "Best"
   ]
  },
  {
   "cell_type": "markdown",
   "metadata": {},
   "source": [
    "## Agent Environment Loops for SuttonSimplest and CliffWalking"
   ]
  },
  {
   "cell_type": "markdown",
   "metadata": {},
   "source": [
    "#### Sutton Simplest MDP environment\n",
    "States = {A,B} cells ids <br>\n",
    "Actions = {1 in pyhton 0,  2 in python 1} <br>\n",
    "<img style=\"float: left;\" src=\"imgs/SuttonSimple.png\" width=\"320\">"
   ]
  },
  {
   "cell_type": "code",
   "execution_count": 2,
   "metadata": {},
   "outputs": [
    {
     "name": "stdout",
     "output_type": "stream",
     "text": [
      "Initial State: 0\n",
      "New State: 0      Reward: 10\n",
      "New State: 0      Reward: -10\n",
      "New State: 1      Reward: -10\n",
      "New State: 1      Reward: 40\n",
      "New State: 0      Reward: 20\n",
      "New State: 1      Reward: -10\n",
      "New State: 0      Reward: 20\n",
      "New State: 1      Reward: -10\n",
      "New State: 0      Reward: 20\n",
      "New State: 0      Reward: -10\n",
      "Total obtained reward was:  60\n"
     ]
    }
   ],
   "source": [
    "env = Environment.Environment(\"SuttonSimplest\")\n",
    "print(\"Initial State: %d\"%env.reset())\n",
    "\n",
    "isteps, sum_reward, done = 0, 0, False\n",
    "observation = env.reset()\n",
    "while not done and isteps < 10:\n",
    "    action = env.action_space.sample()\n",
    "    observation, reward, done, info = env.step(action)\n",
    "    print(\"New State: \" + str(observation) + \"      Reward: \" + str(reward))\n",
    "    sum_reward += reward\n",
    "    isteps += 1\n",
    "print(\"Total obtained reward was: \", sum_reward)\n",
    "env.close()"
   ]
  },
  {
   "cell_type": "markdown",
   "metadata": {},
   "source": [
    "#### Cliff Environment from the Sutton and Barto Book:  cliff_walking.py file\n",
    "States = {0,...,33} cells ids <br>\n",
    "Actions = {UP 0,RIGHT 1,DOWN 2,LEFT 3} <br>\n",
    "<img style=\"float: left;\" src=\"imgs/cliff_env.png\" width=\"320\">"
   ]
  },
  {
   "cell_type": "code",
   "execution_count": 3,
   "metadata": {},
   "outputs": [
    {
     "name": "stdout",
     "output_type": "stream",
     "text": [
      "Initial State: 36\n",
      "New State: 37      Reward: -100.0\n",
      "Total obtained reward was:  -100.0\n"
     ]
    }
   ],
   "source": [
    "env = Environment.Environment(\"CliffWalking\")\n",
    "print(\"Initial State: %d\"%env.reset())\n",
    "\n",
    "sum_reward, done = 0, False\n",
    "observation = env.reset()\n",
    "while not done:\n",
    "    action = env.action_space.sample()\n",
    "    observation, reward, done, info = env.step(action)\n",
    "    print(\"New State: \" + str(observation) + \"      Reward: \" + str(reward))\n",
    "    sum_reward += reward\n",
    "    \n",
    "print(\"Total obtained reward was: \", sum_reward)\n",
    "env.close()"
   ]
  },
  {
   "cell_type": "markdown",
   "metadata": {},
   "source": [
    "## TD policy evaluation - Value function V"
   ]
  },
  {
   "cell_type": "code",
   "execution_count": 4,
   "metadata": {},
   "outputs": [],
   "source": [
    "class V_Class():  \n",
    "    \"\"\" Class to store the state Value function\n",
    "        V(s) = expected future discounted reward from s onwards (the return Gt)\n",
    "        Stores it as a dictionnary and adds states as encounteded (get method)\n",
    "        Two methods: get and set\n",
    "    \"\"\"\n",
    "    def __init__(self):       \n",
    "        self.f = {}\n",
    "        \n",
    "    def get(self, s):        \n",
    "        if(s not in self.f):\n",
    "            self.f[s] = 0             \n",
    "        return self.f[s]\n",
    "    \n",
    "    def set(self, s, y):\n",
    "        self.f[s] = y  "
   ]
  },
  {
   "cell_type": "code",
   "execution_count": 5,
   "metadata": {},
   "outputs": [
    {
     "name": "stdout",
     "output_type": "stream",
     "text": [
      "\n",
      "State Value Function evaluation for Random Policy\n",
      "0 -22.55\n",
      "1 -24.28\n",
      "2 -25.1\n",
      "3 -23.86\n",
      "4 -24.79\n",
      "5 -23.47\n",
      "6 -22.02\n",
      "7 -26.36\n",
      "8 -19.14\n",
      "9 -10.58\n",
      "10 -5.37\n",
      "11 -1.83\n",
      "12 -25.03\n",
      "13 -36.7\n",
      "14 -36.35\n",
      "15 -50.21\n",
      "16 -32.67\n",
      "17 -31.31\n",
      "18 -30.67\n",
      "19 -48.81\n",
      "20 -20.64\n",
      "21 -14.88\n",
      "22 -13.52\n",
      "23 -4.04\n",
      "24 -51.58\n",
      "25 -60.79\n",
      "26 -68.98\n",
      "27 -76.73\n",
      "28 -55.45\n",
      "29 -51.78\n",
      "30 -70.05\n",
      "31 -73.55\n",
      "32 -65.45\n",
      "33 -30.43\n",
      "34 -47.26\n",
      "35 -15.59\n",
      "36 -76.24\n",
      "37 0\n",
      "38 0\n",
      "39 0\n",
      "40 0\n",
      "41 0\n",
      "42 0\n",
      "43 0\n",
      "44 0\n",
      "45 0\n",
      "46 0\n",
      "47 0\n"
     ]
    }
   ],
   "source": [
    "env = Environment.Environment(\"CliffWalking\")\n",
    "V = V_Class()\n",
    "\n",
    "iepisode = 0\n",
    "while iepisode < 1000:\n",
    "    obs = env.reset()\n",
    "    done = False\n",
    "    while not done:\n",
    "        action = env.action_space.sample()\n",
    "        new_obs, reward, done, info = env.step(action)\n",
    "        new_Vs = V.get(obs) + 0.3*(reward + 0.9*V.get(new_obs) - V.get(obs)) \n",
    "        V.set(obs,new_Vs)\n",
    "        obs = new_obs\n",
    "        \n",
    "    iepisode += 1\n",
    "\n",
    "print(\"\")\n",
    "print(\"State Value Function evaluation for Random Policy\")\n",
    "\n",
    "for key, value in sorted(V.f.items()):\n",
    "    print(key, round(value,2))"
   ]
  },
  {
   "cell_type": "markdown",
   "metadata": {},
   "source": [
    "## TD policy evaluation (state, action) Value function Q"
   ]
  },
  {
   "cell_type": "code",
   "execution_count": 6,
   "metadata": {},
   "outputs": [],
   "source": [
    "class Q_Class():  \n",
    "    \"\"\" Class to store the state action Value function Q(s,a)\n",
    "        Q(s,a) = expected future discounted reward from s taking a onwards \n",
    "        Stores it as a dictionnary and adds states as encounteded with all its actions\n",
    "        Two methods: get and set\n",
    "    \"\"\"\n",
    "    \n",
    "    def __init__(self, env):       \n",
    "        self.nactions = env.action_space.n\n",
    "        self.f = {}\n",
    "        \n",
    "    def get(self, s, a=None):        \n",
    "        if(s not in self.f):\n",
    "            self.f[s] = [0 for _ in range(self.nactions)]  \n",
    "        return self.f[s] if a is None else self.f[s][a]\n",
    "    \n",
    "    def set(self, s, a, y):\n",
    "        self.f[s][a] = y  "
   ]
  },
  {
   "cell_type": "code",
   "execution_count": 7,
   "metadata": {},
   "outputs": [
    {
     "name": "stdout",
     "output_type": "stream",
     "text": [
      "\n",
      "State Value Function evaluation for Random Policy\n",
      "0 [-26.7, -24.11, -36.01, -24.81]\n",
      "1 [-26.71, -23.95, -32.11, -26.43]\n",
      "2 [-25.3, -31.71, -29.26, -23.63]\n",
      "3 [-29.99, -18.41, -53.76, -23.69]\n",
      "4 [-14.31, -13.84, -23.25, -22.41]\n",
      "5 [-10.2, -6.4, -16.04, -17.82]\n",
      "6 [-8.42, -2.13, -11.27, -10.17]\n",
      "7 [-2.73, -1.35, -11.18, -3.09]\n",
      "8 [-0.94, -1.24, -1.55, -1.59]\n",
      "9 [-0.95, -1.84, -0.94, -0.41]\n",
      "10 [-0.3, -0.51, -3.74, -0.54]\n",
      "11 [-0.3, 0, -0.46, -0.44]\n",
      "12 [-25.82, -42.79, -45.97, -33.6]\n",
      "13 [-25.54, -35.19, -49.58, -33.66]\n",
      "14 [-23.88, -39.63, -44.26, -29.6]\n",
      "15 [-19.42, -31.4, -76.65, -31.54]\n",
      "16 [-18.57, -22.82, -40.8, -27.92]\n",
      "17 [-11.73, -18.26, -43.54, -28.41]\n",
      "18 [-6.78, -7.88, -57.38, -13.27]\n",
      "19 [-0.75, -1.92, -20.13, -21.46]\n",
      "20 [-1.12, -2.21, -0.65, -1.42]\n",
      "21 [-1.43, -0.72, -17.06, -1.49]\n",
      "22 [-0.97, -0.65, -20.2, -1.67]\n",
      "23 [0, -0.74, 0, -1.16]\n",
      "24 [-31.17, -37.1, -80.33, -33.05]\n",
      "25 [-30.36, -58.43, -100.0, -36.83]\n",
      "26 [-32.08, -56.11, -100.0, -54.06]\n",
      "27 [-38.4, -42.69, -100.0, -62.42]\n",
      "28 [-26.16, -64.16, -99.99, -61.45]\n",
      "29 [-11.37, -39.87, -99.53, -61.15]\n",
      "30 [-4.91, -13.3, -99.03, -38.18]\n",
      "31 [-11.86, -0.51, -83.19, -46.47]\n",
      "32 [-0.91, -0.38, -30.0, -8.33]\n",
      "33 [-2.88, -0.71, -65.7, -0.59]\n",
      "34 [-0.38, -0.51, -65.7, -0.67]\n",
      "35 [0, 0, -0.3, -0.38]\n",
      "36 [-42.22, -100.0, -75.28, -56.16]\n",
      "37 [0, 0, 0, 0]\n",
      "38 [0, 0, 0, 0]\n",
      "39 [0, 0, 0, 0]\n",
      "40 [0, 0, 0, 0]\n",
      "41 [0, 0, 0, 0]\n",
      "42 [0, 0, 0, 0]\n",
      "43 [0, 0, 0, 0]\n",
      "44 [0, 0, 0, 0]\n",
      "45 [0, 0, 0, 0]\n",
      "46 [0, 0, 0, 0]\n",
      "47 [0, 0, 0, 0]\n"
     ]
    }
   ],
   "source": [
    "env = Environment.Environment(\"CliffWalking\")\n",
    "Q = Q_Class(env)\n",
    "\n",
    "iepisode = 0\n",
    "while iepisode < 1000:\n",
    "    s = env.reset()\n",
    "    done = False\n",
    "    a = env.action_space.sample()\n",
    "    while not done:        \n",
    "        s_new, reward, done, info = env.step(a)\n",
    "\n",
    "        a_new = env.action_space.sample()\n",
    "        #print(s_new, a_new, Q.get(s_new,a_new))\n",
    "\n",
    "        new_Qa = Q.get(s,a) + 0.3*(reward + 0.9*Q.get(s_new,a_new) - Q.get(s,a))         \n",
    "        Q.set(s,a,new_Qa)\n",
    "        \n",
    "        s,a = s_new,a_new\n",
    "        \n",
    "    iepisode += 1\n",
    "\n",
    "print(\"\")\n",
    "print(\"State Value Function evaluation for Random Policy\")\n",
    "\n",
    "for key, value in sorted(Q.f.items()):\n",
    "    print(key, [round(v,2) for v in value])"
   ]
  },
  {
   "cell_type": "markdown",
   "metadata": {},
   "source": [
    "# Play with gamma, learning rate, epsilon, number of episodes and arrive to some conclusions, the ones you want and write down or plot the conclusions as you want"
   ]
  },
  {
   "cell_type": "markdown",
   "metadata": {},
   "source": [
    "## SARSA Optimal Policy through epsilon - Greedy Policy "
   ]
  },
  {
   "cell_type": "code",
   "execution_count": 8,
   "metadata": {},
   "outputs": [],
   "source": [
    "class egreedy_Class():\n",
    "    \"\"\" Class for the epsilon greedy policy\n",
    "        Gets at initialization:\n",
    "        -environment to store the number of actions in initialization \n",
    "        -The Q function\n",
    "        \n",
    "        Has method act: \n",
    "        -gets state and epsilon as input: acts randomly \n",
    "        -\n",
    "    \"\"\"\n",
    "    \n",
    "    def __init__(self, env, Q):       \n",
    "        self.nactions = env.action_space.n\n",
    "        self.Q = Q\n",
    "    \n",
    "    def act(self, s, epsilon):                \n",
    "        if np.random.uniform(0, 1) < epsilon:\n",
    "            return env.action_space.sample()\n",
    "        else:\n",
    "            q_values = self.Q.get(s)\n",
    "            action = np.argmax(q_values)\n",
    "            return action\n"
   ]
  },
  {
   "cell_type": "code",
   "execution_count": 74,
   "metadata": {},
   "outputs": [
    {
     "name": "stdout",
     "output_type": "stream",
     "text": [
      "\n",
      "Q Values for Q-learning after 1000 episodes .1 epsilon\n",
      "0 [-1.0, -1.0, -1.0, -1.0]\n",
      "1 [-1.0, -1.0, -1.0, -1.0]\n",
      "2 [-1.0, -1.0, -1.0, -1.0]\n",
      "3 [-1.0, -1.0, -1.0, -1.0]\n",
      "4 [-1.0, -1.0, -1.0, -1.0]\n",
      "5 [-1.0, -1.0, -1.0, -1.0]\n",
      "6 [-1.0, -1.0, -1.0, -1.0]\n",
      "7 [-1.0, -1.0, -1.0, -1.0]\n",
      "8 [-1.0, -1.0, -1.0, -1.0]\n",
      "9 [-1.0, -1.0, -1.0, -1.0]\n",
      "10 [-1.0, -1.0, -1.0, -1.0]\n",
      "11 [-1.0, -1.0, -1.0, -1.0]\n",
      "12 [-1.0, -1.0, -1.0, -1.0]\n",
      "13 [-1.0, -1.0, -1.0, -1.0]\n",
      "14 [-1.0, -1.0, -1.0, -1.0]\n",
      "15 [-1.0, -1.0, -1.0, -1.0]\n",
      "16 [-1.0, -1.0, -1.0, -1.0]\n",
      "17 [-1.0, -1.0, -1.0, -1.0]\n",
      "18 [-1.0, -1.0, -1.0, -1.0]\n",
      "19 [-1.0, -1.0, -1.0, -1.0]\n",
      "20 [-1.0, -1.0, -1.0, -1.0]\n",
      "21 [-1.0, -1.0, -1.0, -1.0]\n",
      "22 [-1.0, -1.0, -1.0, -1.0]\n",
      "23 [-1.0, -1.0, -1.0, -1.0]\n",
      "24 [-1.0, -1.01, -1.01, -1.0]\n",
      "25 [-1.0, -1.0, -100.0, -1.0]\n",
      "26 [-1.0, -1.0, -99.99, -1.1]\n",
      "27 [-1.0, -1.1, -99.9, -1.0]\n",
      "28 [-1.0, -1.0, -100.0, -1.0]\n",
      "29 [-1.0, -1.01, -99.99, -1.0]\n",
      "30 [-1.0, -1.0, -99.99, -1.0]\n",
      "31 [-1.0, -1.0, -99.99, -1.01]\n",
      "32 [-1.0, -1.0, -99.9, -1.01]\n",
      "33 [-1.0, -1.08, -90.0, -1.01]\n",
      "34 [-1.0, -1.0, -99.9, -1.0]\n",
      "35 [-1.0, -1.0, -1.0, -1.0]\n",
      "36 [-1.0, -100.0, -1.0, -1.01]\n",
      "37 [0, 0, 0, 0]\n",
      "38 [0, 0, 0, 0]\n",
      "39 [0, 0, 0, 0]\n",
      "40 [0, 0, 0, 0]\n",
      "41 [0, 0, 0, 0]\n",
      "42 [0, 0, 0, 0]\n",
      "43 [0, 0, 0, 0]\n",
      "44 [0, 0, 0, 0]\n",
      "45 [0, 0, 0, 0]\n",
      "46 [0, 0, 0, 0]\n",
      "47 [0, 0, 0, 0]\n"
     ]
    }
   ],
   "source": [
    "env = Environment.Environment(\"CliffWalking\")\n",
    "Q = Q_Class(env)\n",
    "policy = egreedy_Class(env,Q) \n",
    "\n",
    "iepisode, epsilon = 0, 1\n",
    "while iepisode < 1000:\n",
    "    s = env.reset()\n",
    "    done = False\n",
    "    a = policy.act(s,epsilon)\n",
    "    while not done:        \n",
    "        s_new, reward, done, info = env.step(a)        \n",
    "        a_new = policy.act(s_new,epsilon)\n",
    "        new_Qa = Q.get(s,a) + .03*(reward + .9*Q.get(s_new,a_new) - Q.get(s,a))         \n",
    "        Q.set(s,a,new_Qa)\n",
    "        s,a = s_new,a_new\n",
    "        \n",
    "    iepisode += 1\n",
    "    epsilon = max(0.1, epsilon - 1/1000.0)\n",
    "\n",
    "print(\"\")\n",
    "print(\"Q Values for SARSA after 1000 episodes .1 epsilon\")\n",
    "\n",
    "for key, value in sorted(Q.f.items()):\n",
    "    print(key, [round(v,2) for v in value])"
   ]
  },
  {
   "cell_type": "markdown",
   "metadata": {},
   "source": [
    "## playing with discount factor and SARSA"
   ]
  },
  {
   "cell_type": "code",
   "execution_count": 48,
   "metadata": {},
   "outputs": [
    {
     "name": "stdout",
     "output_type": "stream",
     "text": [
      "gamma values: [0.   0.05 0.15 0.35 0.75]\n",
      "mean reward over 1000 espisodes: [ -506.874 -3883.118 -1478.514 -1725.584 -1236.607]\n"
     ]
    },
    {
     "data": {
      "image/png": "[encoded data removed]",
      "text/plain": [
       "<Figure size 432x288 with 1 Axes>"
      ]
     },
     "metadata": {
      "needs_background": "light"
     },
     "output_type": "display_data"
    }
   ],
   "source": [
    "##run a loop of SARSA \n",
    "gamma_values=[]\n",
    "mean_reward_values=[]\n",
    "\n",
    "gamma = 0\n",
    "total_mean_reward = 0\n",
    "\n",
    "while gamma < 1:\n",
    "    env = Environment.Environment(\"CliffWalking\")\n",
    "    Q = Q_Class(env)\n",
    "    policy = egreedy_Class(env,Q) \n",
    "\n",
    "    iepisode, epsilon = 0,1\n",
    "    sum_reward = 0\n",
    "    while iepisode < 1000:\n",
    "        s = env.reset()\n",
    "        done = False\n",
    "        a = policy.act(s,epsilon)\n",
    "        while not done: \n",
    "            s_new, reward, done, info = env.step(a)        \n",
    "            a_new = policy.act(s_new,epsilon)\n",
    "            new_Qa = Q.get(s,a) + 0.3*(reward + .01*Q.get(s_new,a_new) - Q.get(s,a))         \n",
    "            Q.set(s,a,new_Qa)\n",
    "            s,a = s_new,a_new\n",
    "            sum_reward += reward\n",
    "        iepisode += 1\n",
    "        epsilon = max(0.1, epsilon - 1/1000.0)\n",
    "    \n",
    "    total_mean_reward = (sum_reward/1000.0)\n",
    "    mean_reward_values = np.append(mean_reward_values, total_mean_reward)\n",
    "    gamma_values = np.append(gamma_values, gamma)\n",
    "    gamma += gamma + .05\n",
    "\n",
    "    \n",
    "#plot values of mean reward per episode \n",
    "plt.plot(gamma_values, mean_reward_values)\n",
    "plt.title(\"total mean reward obtained per 1000 episodes with SARSA vs gamma values\")\n",
    "plt.xlabel(\"gamma values\")\n",
    "plt.ylabel(\"mean reward/1000 episodes\")\n",
    "print(\"gamma values:\", gamma_values)\n",
    "print(\"mean reward over 1000 espisodes:\", mean_reward_values)\n",
    "\n"
   ]
  },
  {
   "cell_type": "markdown",
   "metadata": {},
   "source": [
    "## experimenting with learning rate"
   ]
  },
  {
   "cell_type": "code",
   "execution_count": 68,
   "metadata": {},
   "outputs": [
    {
     "name": "stdout",
     "output_type": "stream",
     "text": [
      "learning rate values: [0.  0.1 0.3 0.7]\n",
      "mean reward over 1000 espisodes: [ -9637.024 -23242.684  -1501.443   -270.078]\n"
     ]
    },
    {
     "data": {
      "image/png": "[encoded data removed]",
      "text/plain": [
       "<Figure size 432x288 with 1 Axes>"
      ]
     },
     "metadata": {
      "needs_background": "light"
     },
     "output_type": "display_data"
    }
   ],
   "source": [
    "##run a loop of SARSA \n",
    "learning_rate_values=[]\n",
    "mean_reward_values=[]\n",
    "\n",
    "learning_rate = 0\n",
    "total_mean_reward = 0\n",
    "\n",
    "while learning_rate < 1:\n",
    "    env = Environment.Environment(\"CliffWalking\")\n",
    "    Q = Q_Class(env)\n",
    "    policy = egreedy_Class(env,Q) \n",
    "\n",
    "    iepisode, epsilon = 0,1\n",
    "    sum_reward = 0\n",
    "    while iepisode < 1000:\n",
    "        s = env.reset()\n",
    "        done = False\n",
    "        a = policy.act(s,epsilon)\n",
    "        while not done: \n",
    "            s_new, reward, done, info = env.step(a)        \n",
    "            a_new = policy.act(s_new,epsilon)\n",
    "            new_Qa = Q.get(s,a) + learning_rate*(reward + .01*Q.get(s_new,a_new) - Q.get(s,a))         \n",
    "            Q.set(s,a,new_Qa)\n",
    "            s,a = s_new,a_new\n",
    "            sum_reward += reward\n",
    "        iepisode += 1\n",
    "        epsilon = max(0.1, epsilon - 1/1000.0)\n",
    "    \n",
    "    total_mean_reward = (sum_reward/1000.0)\n",
    "    mean_reward_values = np.append(mean_reward_values, total_mean_reward)\n",
    "    learning_rate_values = np.append(learning_rate_values, learning_rate)\n",
    "    learning_rate += learning_rate + .1\n",
    "\n",
    "    \n",
    "#plot values of mean reward per episode \n",
    "plt.plot(learning_rate_values, mean_reward_values)\n",
    "plt.title(\"total mean reward obtained per 1000 episodes with SARSA vs learning rate values\")\n",
    "plt.xlabel(\"learning rate values\")\n",
    "plt.ylabel(\"mean reward/1000 episodes\")\n",
    "print(\"learning rate values:\", learning_rate_values)\n",
    "print(\"mean reward over 1000 espisodes:\", mean_reward_values)"
   ]
  },
  {
   "cell_type": "markdown",
   "metadata": {},
   "source": [
    "## experimenting with epsilon"
   ]
  },
  {
   "cell_type": "code",
   "execution_count": 53,
   "metadata": {},
   "outputs": [
    {
     "name": "stdout",
     "output_type": "stream",
     "text": [
      "epsilon values [0.1 0.3 0.7]\n",
      "mean reward over 1000 espisodes: [-3020.776  -792.406  -159.398]\n"
     ]
    },
    {
     "data": {
      "image/png": "[encoded data removed]",
      "text/plain": [
       "<Figure size 432x288 with 1 Axes>"
      ]
     },
     "metadata": {
      "needs_background": "light"
     },
     "output_type": "display_data"
    }
   ],
   "source": [
    "##run a loop of SARSA \n",
    "epsilon_values=[]\n",
    "mean_reward_values=[]\n",
    "\n",
    "epsilon = .1\n",
    "total_mean_reward = 0\n",
    "\n",
    "while epsilon < 1:\n",
    "    env = Environment.Environment(\"CliffWalking\")\n",
    "    Q = Q_Class(env)\n",
    "    policy = egreedy_Class(env,Q) \n",
    "\n",
    "    iepisode = 0\n",
    "    sum_reward = 0\n",
    "    while iepisode < 1000:\n",
    "        s = env.reset()\n",
    "        done = False\n",
    "        a = policy.act(s,epsilon)\n",
    "        while not done: \n",
    "            s_new, reward, done, info = env.step(a)        \n",
    "            a_new = policy.act(s_new,epsilon)\n",
    "            new_Qa = Q.get(s,a) + 0.3*(reward + .01*Q.get(s_new,a_new) - Q.get(s,a))         \n",
    "            Q.set(s,a,new_Qa)\n",
    "            s,a = s_new,a_new\n",
    "            sum_reward += reward\n",
    "        iepisode += 1\n",
    "        \n",
    "    \n",
    "    total_mean_reward = (sum_reward/1000.0)\n",
    "    mean_reward_values = np.append(mean_reward_values, total_mean_reward)\n",
    "    epsilon_values = np.append(epsilon_values, epsilon)\n",
    "    epsilon += epsilon + .1\n",
    "\n",
    "    \n",
    "#plot values of mean reward per episode \n",
    "plt.plot(epsilon_values, mean_reward_values)\n",
    "plt.title(\"total mean reward obtained per 1000 episodes with SARSA vs epsilon values\")\n",
    "plt.xlabel(\"epsilon values\")\n",
    "plt.ylabel(\"mean reward/1000 episodes\")\n",
    "print(\"epsilon values\", epsilon_values)\n",
    "print(\"mean reward over 1000 espisodes:\", mean_reward_values)"
   ]
  },
  {
   "cell_type": "markdown",
   "metadata": {},
   "source": [
    "## Q-Learning - Off-policy through 1 step look ahead - max operation "
   ]
  },
  {
   "cell_type": "code",
   "execution_count": 81,
   "metadata": {},
   "outputs": [
    {
     "name": "stdout",
     "output_type": "stream",
     "text": [
      "\n",
      "Q values with Q learning after 1000 epsisodes with .1 epsilon \n",
      "0 [-4.72, -4.72, -4.73, -4.73]\n",
      "1 [-4.62, -4.62, -4.61, -4.62]\n",
      "2 [-4.45, -4.46, -4.46, -4.45]\n",
      "3 [-4.26, -4.26, -4.26, -4.26]\n",
      "4 [-4.05, -4.04, -4.05, -4.05]\n",
      "5 [-3.81, -3.8, -3.81, -3.81]\n",
      "6 [-3.55, -3.55, -3.55, -3.55]\n",
      "7 [-3.28, -3.28, -3.28, -3.28]\n",
      "8 [-2.98, -2.98, -2.97, -2.98]\n",
      "9 [-2.66, -2.66, -2.65, -2.66]\n",
      "10 [-2.34, -2.34, -2.34, -2.34]\n",
      "11 [-2.09, -2.09, -2.09, -2.09]\n",
      "12 [-4.82, -4.83, -4.83, -4.83]\n",
      "13 [-4.67, -4.67, -4.67, -4.67]\n",
      "14 [-4.48, -4.48, -4.48, -4.48]\n",
      "15 [-4.26, -4.26, -4.27, -4.28]\n",
      "16 [-4.04, -4.04, -4.04, -4.04]\n",
      "17 [-3.8, -3.8, -3.8, -3.8]\n",
      "18 [-3.54, -3.54, -3.54, -3.54]\n",
      "19 [-3.26, -3.25, -3.25, -3.25]\n",
      "20 [-2.93, -2.93, -2.94, -2.94]\n",
      "21 [-2.58, -2.58, -2.58, -2.58]\n",
      "22 [-2.19, -2.18, -2.18, -2.19]\n",
      "23 [-1.78, -1.78, -1.77, -1.78]\n",
      "24 [-5.04, -5.04, -5.05, -5.04]\n",
      "25 [-4.75, -4.75, -45.83, -4.75]\n",
      "26 [-4.5, -4.5, -41.88, -4.5]\n",
      "27 [-4.27, -4.27, -34.43, -4.27]\n",
      "28 [-4.04, -4.04, -22.22, -4.03]\n",
      "29 [-3.78, -3.78, -35.74, -3.78]\n",
      "30 [-3.52, -3.52, -28.23, -3.51]\n",
      "31 [-3.22, -3.22, -24.53, -3.22]\n",
      "32 [-2.88, -2.88, -24.53, -2.88]\n",
      "33 [-2.46, -2.45, -22.22, -2.46]\n",
      "34 [-1.87, -1.87, -18.21, -1.87]\n",
      "35 [-1.06, -1.02, -1.0, -1.16]\n",
      "36 [-5.38, -57.87, -5.37, -5.38]\n",
      "37 [0, 0, 0, 0]\n",
      "38 [0, 0, 0, 0]\n",
      "39 [0, 0, 0, 0]\n",
      "40 [0, 0, 0, 0]\n",
      "41 [0, 0, 0, 0]\n",
      "42 [0, 0, 0, 0]\n",
      "43 [0, 0, 0, 0]\n",
      "44 [0, 0, 0, 0]\n",
      "45 [0, 0, 0, 0]\n",
      "46 [0, 0, 0, 0]\n",
      "47 [0, 0, 0, 0]\n"
     ]
    }
   ],
   "source": [
    "env = Environment.Environment(\"CliffWalking\")\n",
    "Q = Q_Class(env)\n",
    "policy = egreedy_Class(env,Q) \n",
    "\n",
    "iepisode,epsilon = 0,.1\n",
    "while iepisode < 1000:\n",
    "    s = env.reset()\n",
    "    done = False\n",
    "    while not done:        \n",
    "        a = policy.act(s,epsilon)\n",
    "        s_new, reward, done, info = env.step(a)\n",
    "\n",
    "        new_Qa = Q.get(s,a) + 0.01*(reward + 0.9*Q.get(s_new,a_new) - Q.get(s,a))         \n",
    "        Q.set(s,a,new_Qa)\n",
    "        \n",
    "        s,a = s_new,a_new\n",
    "        \n",
    "    iepisode += 1\n",
    "    #epsilon = max(0.1, epsilon - 1/1000.0)\n",
    "\n",
    "print(\"\")\n",
    "print(\"Q values with Q learning after 1000 epsisodes with .1 epsilon \")\n",
    "\n",
    "for key, value in sorted(Q.f.items()):\n",
    "    print(key, [round(v,2) for v in value])"
   ]
  },
  {
   "cell_type": "markdown",
   "metadata": {},
   "source": [
    "## experimenting with gamma \n"
   ]
  },
  {
   "cell_type": "code",
   "execution_count": 58,
   "metadata": {},
   "outputs": [
    {
     "name": "stdout",
     "output_type": "stream",
     "text": [
      "gamma values: [0.   0.05 0.15 0.35 0.75]\n",
      "mean reward over 1000 espisodes: [-102.458 -215.965 -236.992 -145.41  -179.042]\n"
     ]
    },
    {
     "data": {
      "image/png": "[encoded data removed]",
      "text/plain": [
       "<Figure size 432x288 with 1 Axes>"
      ]
     },
     "metadata": {
      "needs_background": "light"
     },
     "output_type": "display_data"
    }
   ],
   "source": [
    "##run a loop of Q-learning with different gamma values\n",
    "\n",
    "gamma_values=[]\n",
    "mean_reward_values=[]\n",
    "\n",
    "gamma = 0\n",
    "total_mean_reward = 0\n",
    "\n",
    "while gamma < 1:\n",
    "    env = Environment.Environment(\"CliffWalking\")\n",
    "    Q = Q_Class(env)\n",
    "    policy = egreedy_Class(env,Q) \n",
    "\n",
    "    iepisode, epsilon = 0,1\n",
    "    sum_reward = 0\n",
    "    while iepisode < 1000:\n",
    "        s = env.reset()\n",
    "        done = False\n",
    "        while not done:\n",
    "            a = policy.act(s,epsilon) \n",
    "            s_new, reward, done, info = env.step(a)        \n",
    "            a_new = policy.act(s_new,epsilon)\n",
    "            new_Qa = Q.get(s,a) + 0.3*(reward + 0.9*Q.get(s_new,a_new) - Q.get(s,a))          \n",
    "            Q.set(s,a,new_Qa)\n",
    "            s,a = s_new,a_new\n",
    "            sum_reward += reward\n",
    "        iepisode += 1\n",
    "        epsilon = max(0.1, epsilon - 1/1000.0)\n",
    "    \n",
    "    total_mean_reward = (sum_reward/1000.0)\n",
    "    mean_reward_values = np.append(mean_reward_values, total_mean_reward)\n",
    "    gamma_values = np.append(gamma_values, gamma)\n",
    "    gamma += gamma + .05\n",
    "\n",
    "    \n",
    "#plot values of mean reward per episode \n",
    "plt.plot(gamma_values, mean_reward_values)\n",
    "plt.title(\"total mean reward obtained per 1000 episodes with Q-learning vs gamma values\")\n",
    "plt.xlabel(\"gamma values\")\n",
    "plt.ylabel(\"mean reward/1000 episodes\")\n",
    "print(\"gamma values:\", gamma_values)\n",
    "print(\"mean reward over 1000 espisodes:\", mean_reward_values)\n"
   ]
  },
  {
   "cell_type": "markdown",
   "metadata": {},
   "source": [
    "## experimenting with learning rate"
   ]
  },
  {
   "cell_type": "code",
   "execution_count": 60,
   "metadata": {},
   "outputs": [
    {
     "name": "stdout",
     "output_type": "stream",
     "text": [
      "learning rate values: [0.  0.1 0.3 0.7]\n",
      "mean reward over 1000 espisodes: [-8116.213   -71.102  -106.465  -136.774]\n"
     ]
    },
    {
     "data": {
      "image/png": "[encoded data removed]",
      "text/plain": [
       "<Figure size 432x288 with 1 Axes>"
      ]
     },
     "metadata": {
      "needs_background": "light"
     },
     "output_type": "display_data"
    }
   ],
   "source": [
    "##run a loop of Q-learning with different learning rate values\n",
    "\n",
    "learning_rate_values=[]\n",
    "mean_reward_values=[]\n",
    "\n",
    "learning_rate = 0\n",
    "total_mean_reward = 0\n",
    "\n",
    "while learning_rate < 1:\n",
    "    env = Environment.Environment(\"CliffWalking\")\n",
    "    Q = Q_Class(env)\n",
    "    policy = egreedy_Class(env,Q) \n",
    "\n",
    "    iepisode, epsilon = 0,1\n",
    "    sum_reward = 0\n",
    "    while iepisode < 1000:\n",
    "        s = env.reset()\n",
    "        done = False\n",
    "        while not done:\n",
    "            a = policy.act(s,epsilon) \n",
    "            s_new, reward, done, info = env.step(a)        \n",
    "            a_new = policy.act(s_new,epsilon)\n",
    "            new_Qa = Q.get(s,a) + learning_rate*(reward + 0.9*Q.get(s_new,a_new) - Q.get(s,a))          \n",
    "            Q.set(s,a,new_Qa)\n",
    "            s,a = s_new,a_new\n",
    "            sum_reward += reward\n",
    "        iepisode += 1\n",
    "        epsilon = max(0.1, epsilon - 1/1000.0)\n",
    "    \n",
    "    total_mean_reward = (sum_reward/1000.0)\n",
    "    mean_reward_values = np.append(mean_reward_values, total_mean_reward)\n",
    "    learning_rate_values = np.append(learning_rate_values, learning_rate)\n",
    "    learning_rate += learning_rate + .1\n",
    "\n",
    "    \n",
    "#plot values of mean reward per episode \n",
    "plt.plot(learning_rate_values, mean_reward_values)\n",
    "plt.title(\"total mean reward obtained per 1000 episodes with Q-learning vs learning rate values\")\n",
    "plt.xlabel(\"learning rate values\")\n",
    "plt.ylabel(\"mean reward/1000 episodes\")\n",
    "print(\"learning rate values:\", learning_rate_values)\n",
    "print(\"mean reward over 1000 espisodes:\", mean_reward_values)"
   ]
  },
  {
   "cell_type": "markdown",
   "metadata": {},
   "source": [
    "## experimenting with epsilon"
   ]
  },
  {
   "cell_type": "code",
   "execution_count": 66,
   "metadata": {},
   "outputs": [
    {
     "name": "stdout",
     "output_type": "stream",
     "text": [
      "epsilon values: [0.1 0.3 0.7]\n",
      "mean reward over 1000 espisodes: [-103.627 -104.66  -109.026]\n"
     ]
    },
    {
     "data": {
      "image/png": "[encoded data removed]",
      "text/plain": [
       "<Figure size 432x288 with 1 Axes>"
      ]
     },
     "metadata": {
      "needs_background": "light"
     },
     "output_type": "display_data"
    }
   ],
   "source": [
    "##run a loop of Q-learning with different learning rate values\n",
    "\n",
    "epsilon_values=[]\n",
    "mean_reward_values=[]\n",
    "\n",
    "epsilon = .1\n",
    "total_mean_reward = 0\n",
    "\n",
    "while epsilon< 1:\n",
    "    env = Environment.Environment(\"CliffWalking\")\n",
    "    Q = Q_Class(env)\n",
    "    policy = egreedy_Class(env,Q) \n",
    "\n",
    "    iepisode = 0\n",
    "    sum_reward = 0\n",
    "    while iepisode < 1000:\n",
    "        s = env.reset()\n",
    "        done = False\n",
    "        while not done:\n",
    "            a = policy.act(s,epsilon) \n",
    "            s_new, reward, done, info = env.step(a)        \n",
    "            a_new = policy.act(s_new,epsilon)\n",
    "            new_Qa = Q.get(s,a) + learning_rate*(reward + 0.9*Q.get(s_new,a_new) - Q.get(s,a))          \n",
    "            Q.set(s,a,new_Qa)\n",
    "            s,a = s_new,a_new\n",
    "            sum_reward += reward\n",
    "        iepisode += 1\n",
    "        \n",
    "    \n",
    "    total_mean_reward = (sum_reward/1000.0)\n",
    "    mean_reward_values = np.append(mean_reward_values, total_mean_reward)\n",
    "    epsilon_values = np.append(epsilon_values, epsilon)\n",
    "    epsilon += epsilon + .1\n",
    "\n",
    "    \n",
    "#plot values of mean reward per episode \n",
    "plt.plot(epsilon_values, mean_reward_values)\n",
    "plt.title(\"total mean reward obtained per 1000 episodes with Q-learning vs epsilon values\")\n",
    "plt.xlabel(\"epsilon values\")\n",
    "plt.ylabel(\"mean reward/1000 episodes\")\n",
    "print(\"epsilon values:\", epsilon_values)\n",
    "print(\"mean reward over 1000 espisodes:\", mean_reward_values)"
   ]
  },
  {
   "cell_type": "code",
   "execution_count": null,
   "metadata": {},
   "outputs": [],
   "source": []
  }
 ],
 "metadata": {
  "kernelspec": {
   "display_name": "Python 3",
   "language": "python",
   "name": "python3"
  },
  "language_info": {
   "codemirror_mode": {
    "name": "ipython",
    "version": 3
   },
   "file_extension": ".py",
   "mimetype": "text/x-python",
   "name": "python",
   "nbconvert_exporter": "python",
   "pygments_lexer": "ipython3",
   "version": "3.7.0"
  }
 },
 "nbformat": 4,
 "nbformat_minor": 2
}
